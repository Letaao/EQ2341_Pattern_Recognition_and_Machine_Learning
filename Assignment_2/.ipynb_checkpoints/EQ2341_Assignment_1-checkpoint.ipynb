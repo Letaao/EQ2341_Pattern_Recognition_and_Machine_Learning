{
 "cells": [
  {
   "cell_type": "code",
   "execution_count": 1,
   "metadata": {},
   "outputs": [
    {
     "name": "stdout",
     "output_type": "stream",
     "text": [
      "alfaHat:\n",
      "[[1.     0.3847 0.4189]\n",
      " [0.     0.6153 0.5811]]\n",
      "c: \n",
      "[1.     0.1625 0.8266 0.0581]\n",
      "logP:  -9.187726979475208\n"
     ]
    }
   ],
   "source": [
    "from PattRecClasses import GaussD, HMM, MarkovChain\n",
    "import numpy as np\n",
    "\n",
    "#Test Forward algorithm FINITE CHAIN\n",
    "mc = MarkovChain(np.array([1, 0]), np.array([[0.9, 0.1, 0], [0, 0.9, 0.1]])) \n",
    "\n",
    "g1 = GaussD( means=[0], stdevs=[1] )   # Distribution for state = 1\n",
    "g2 = GaussD( means=[3], stdevs=[2] )   # Distribution for state = 2\n",
    "h  = HMM(mc, [g1, g2]) \n",
    "x = np.array([-0.2, 2.6, 1.3])\n",
    "\n",
    "pX_scaled = h.prob(x,True)\n",
    "alfaHat, c = mc.forward(pX_scaled)\n",
    "\n",
    "logP=h.logprob(x)\n",
    "\n",
    "print(\"alfaHat:\")\n",
    "print(np.around(alfaHat, 4))\n",
    "print(\"c: \")\n",
    "print(np.around(c, 4))\n",
    "print(\"logP: \", logP)"
   ]
  },
  {
   "cell_type": "code",
   "execution_count": 3,
   "metadata": {},
   "outputs": [
    {
     "name": "stdout",
     "output_type": "stream",
     "text": [
      "betaHat: \n",
      "[[1.0003 1.0393 0.    ]\n",
      " [8.4182 9.3536 2.0822]]\n"
     ]
    }
   ],
   "source": [
    "from PattRecClasses import GaussD, HMM, MarkovChain\n",
    "import numpy as np\n",
    "\n",
    "#Test Forward algorithm FINITE CHAIN\n",
    "mc = MarkovChain(np.array([1, 0]), np.array([[0.9, 0.1, 0], [0, 0.9, 0.1]])) \n",
    "\n",
    "g1 = GaussD( means=[0], stdevs=[1] )   # Distribution for state = 1\n",
    "g2 = GaussD( means=[3], stdevs=[2] )   # Distribution for state = 2\n",
    "h  = HMM(mc, [g1, g2]) \n",
    "x = np.array([-0.2, 2.6, 1.3])\n",
    "\n",
    "pX_scaled = h.prob(x,True)\n",
    "\n",
    "c_answer = [1, 0.1625, 0.8266, 0.0581]\n",
    "betaHat=mc.backward(c_answer, pX_scaled)\n",
    "\n",
    "print(\"betaHat: \")\n",
    "print(np.around(betaHat, 4))"
   ]
  },
  {
   "cell_type": "code",
   "execution_count": null,
   "metadata": {},
   "outputs": [],
   "source": []
  }
 ],
 "metadata": {
  "kernelspec": {
   "display_name": "Python 3 (ipykernel)",
   "language": "python",
   "name": "python3"
  },
  "language_info": {
   "codemirror_mode": {
    "name": "ipython",
    "version": 3
   },
   "file_extension": ".py",
   "mimetype": "text/x-python",
   "name": "python",
   "nbconvert_exporter": "python",
   "pygments_lexer": "ipython3",
   "version": "3.9.13"
  }
 },
 "nbformat": 4,
 "nbformat_minor": 2
}
