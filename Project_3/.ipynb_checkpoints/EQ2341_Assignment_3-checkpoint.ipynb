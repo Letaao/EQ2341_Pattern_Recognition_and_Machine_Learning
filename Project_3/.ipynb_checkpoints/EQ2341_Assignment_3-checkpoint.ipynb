{
 "cells": [
  {
   "cell_type": "markdown",
   "metadata": {},
   "source": [
    "# A.3 Activity Recognition"
   ]
  },
  {
   "cell_type": "markdown",
   "metadata": {},
   "source": [
    "Objective: \n",
    "The objective of this final project is to implement a classifier for activity recognition based on data from the phone’s sensors. The algorithm should be able to accurately discriminate between three activities: standing still, walking, and running, using a single data file where the state changes."
   ]
  },
  {
   "cell_type": "code",
   "execution_count": 9,
   "metadata": {},
   "outputs": [],
   "source": [
    "from PattRecClasses import DiscreteD, GaussD, HMM, MarkovChain\n",
    "from matplotlib import pyplot as plt\n",
    "\n",
    "import numpy as np"
   ]
  },
  {
   "cell_type": "markdown",
   "metadata": {},
   "source": [
    "## A.3.1 Part A: Data Recording"
   ]
  },
  {
   "cell_type": "markdown",
   "metadata": {},
   "source": [
    "Download and install an appropriate mobile app for recording accelerometer data. You can choose either the Android Sensor Fusion app or the iOS Accelerometer app.\n",
    "\n",
    "The recorded data will be represented as a three-dimensional vector xt ∈R^3, where each component indicates the acceleration in the corresponding axis of the Euclidean space.\n",
    "\n",
    "Perform the three activities (standing still, walking, and running) while the app records the accelerometer data.\n",
    "\n",
    "Export the recorded data to a file, which will be used for training and evaluation of your classifier."
   ]
  },
  {
   "cell_type": "code",
   "execution_count": 11,
   "metadata": {},
   "outputs": [
    {
     "data": {
      "text/plain": [
       "array([[ 0.30553679,  0.3521439 ,  0.42482309, ...,  0.60897222,\n",
       "         0.55845148,  0.38176758],\n",
       "       [ 0.17881927,  0.19878245,  0.09840777, ...,  0.15982641,\n",
       "         0.08458383, -0.00659984],\n",
       "       [ 0.0824889 ,  0.22836101,  0.08523381, ..., -0.05933949,\n",
       "         0.0440484 ,  0.34509354]])"
      ]
     },
     "metadata": {},
     "output_type": "display_data"
    },
    {
     "data": {
      "text/plain": [
       "array([[ 0.02343312,  0.07789426,  0.04671039, ...,  0.0890411 ,\n",
       "         0.38725635,  0.61900269],\n",
       "       [-0.01421849, -0.01196224, -0.00364976, ...,  0.55515902,\n",
       "         0.57593176,  0.50641632],\n",
       "       [-0.07794015, -0.23471126, -0.20192309, ...,  0.39351183,\n",
       "        -0.10918343, -0.24378304]])"
      ]
     },
     "metadata": {},
     "output_type": "display_data"
    }
   ],
   "source": [
    "import pandas as pd\n",
    "\n",
    "# Read data\n",
    "def read_data(file_name):\n",
    "    data = pd.read_csv(file_name)\n",
    "    data = data[['x','y','z']].values\n",
    "    return data.T\n",
    "\n",
    "train_data = read_data('./train.csv')\n",
    "test_data = read_data('./test.csv')\n",
    "display(train_data)\n",
    "display(test_data)"
   ]
  },
  {
   "cell_type": "markdown",
   "metadata": {},
   "source": [
    "## A.3.2 Part B: Classification Task"
   ]
  },
  {
   "cell_type": "markdown",
   "metadata": {},
   "source": [
    "#### 1. Design a Hidden Markov Model to represent the underlying states (standing, walking, and running) and with a parametric distribution of your choice."
   ]
  },
  {
   "cell_type": "code",
   "execution_count": 12,
   "metadata": {},
   "outputs": [],
   "source": [
    "# define distribution and observed data\n",
    "g1 = GaussD(means=[0, 0, 0], cov=np.array([[1, 0, 0], [0, 1, 0], [0, 0, 1]]))\n",
    "g2 = GaussD(means=[0, 0, 0], cov=np.array([[1, 0, 0], [0, 1, 0], [0, 0, 1]]))\n",
    "g3 = GaussD(means=[0, 0, 0], cov=np.array([[1, 0, 0], [0, 1, 0], [0, 0, 1]]))\n",
    "g = [g1, g2, g3]\n",
    "q = np.array([1, 0, 0])\n",
    "A = np.array([[0.8, 0.1, 0.1], [0.1, 0.8, 0.1], [0.1, 0.1, 0.8]])"
   ]
  },
  {
   "cell_type": "markdown",
   "metadata": {},
   "source": [
    "#### 2. Learn the model parameters for each state based on the observation sequences. (Expectation-Maximization (EM) algorithm)"
   ]
  },
  {
   "cell_type": "code",
   "execution_count": 13,
   "metadata": {},
   "outputs": [
    {
     "name": "stdout",
     "output_type": "stream",
     "text": [
      "Training iteration: 1\n",
      "Training iteration: 2\n",
      "Training iteration: 3\n",
      "Training iteration: 4\n",
      "Training iteration: 5\n",
      "Training iteration: 6\n",
      "Training iteration: 7\n",
      "Training iteration: 8\n",
      "Training iteration: 9\n",
      "Training iteration: 10\n",
      "Training iteration: 11\n",
      "Training iteration: 12\n",
      "Training iteration: 13\n",
      "Training iteration: 14\n",
      "Training iteration: 15\n"
     ]
    },
    {
     "data": {
      "text/plain": [
       "'Updated q:'"
      ]
     },
     "metadata": {},
     "output_type": "display_data"
    },
    {
     "data": {
      "text/plain": [
       "array([1., 0., 0.])"
      ]
     },
     "metadata": {},
     "output_type": "display_data"
    },
    {
     "data": {
      "text/plain": [
       "'Updated A matrix:'"
      ]
     },
     "metadata": {},
     "output_type": "display_data"
    },
    {
     "data": {
      "text/plain": [
       "array([[0.98944255, 0.00527875, 0.00527871],\n",
       "       [0.0249025 , 0.86675325, 0.10834425],\n",
       "       [0.02490229, 0.10834411, 0.8667536 ]])"
      ]
     },
     "metadata": {},
     "output_type": "display_data"
    },
    {
     "data": {
      "text/plain": [
       "'Updated mean vector:'"
      ]
     },
     "metadata": {},
     "output_type": "display_data"
    },
    {
     "data": {
      "text/plain": [
       "[array([ 0.04751801, -0.04295912,  0.10601113]),\n",
       " array([-0.27118561,  0.32409249, -0.63154919]),\n",
       " array([-0.27118102,  0.32408585, -0.63157339])]"
      ]
     },
     "metadata": {},
     "output_type": "display_data"
    },
    {
     "data": {
      "text/plain": [
       "'Updated Covariance matrix:'"
      ]
     },
     "metadata": {},
     "output_type": "display_data"
    },
    {
     "data": {
      "text/plain": [
       "[array([[ 0.18708447,  0.03602161, -0.06374027],\n",
       "        [ 0.03602161,  0.50646301,  0.12461773],\n",
       "        [-0.06374027,  0.12461773,  0.41672909]]),\n",
       " array([[16.89933463, -2.00695745, -4.32462011],\n",
       "        [-2.00695745, 16.09891989,  0.84795902],\n",
       "        [-4.32462011,  0.84795902, 19.62039194]]),\n",
       " array([[16.89949935, -2.00704313, -4.32481845],\n",
       "        [-2.00704313, 16.09896722,  0.84796963],\n",
       "        [-4.32481845,  0.84796963, 19.62082834]])]"
      ]
     },
     "metadata": {},
     "output_type": "display_data"
    }
   ],
   "source": [
    "def hmm_train(q, A, g, x):\n",
    "    mc = MarkovChain(q, A)\n",
    "    h = HMM(mc, g)\n",
    "    pX_scaled = h.prob(x)\n",
    "    alpha_hat, c = mc.forward(pX_scaled)\n",
    "    beta_hat = mc.backward(c, pX_scaled)\n",
    "    return update_parameters(mc, np.array(alpha_hat), np.array(beta_hat), np.array(c), pX_scaled, x)\n",
    "\n",
    "def update_parameters(mc, alpha_hat, beta_hat, c, pX_scaled, x):\n",
    "    T = len(alpha_hat)\n",
    "    N = len(alpha_hat[0])\n",
    "    gamma = alpha_hat * beta_hat * c[:, None]\n",
    "\n",
    "    updated_q = gamma[0]\n",
    "\n",
    "    epsilon = np.zeros((T - 1, N, N))\n",
    "    for t in range(T - 1):\n",
    "        epsilon[t] = alpha_hat[t][:, None] * mc.A * beta_hat[t + 1] * pX_scaled[:, t + 1]\n",
    "    epsilon_bar = np.sum(epsilon, axis=0)\n",
    "    \n",
    "    updated_A = epsilon_bar / np.sum(epsilon_bar, axis=1, keepdims=True)\n",
    "\n",
    "    gamma_sum = np.sum(gamma, axis=0)\n",
    "    updated_mean = [(gamma[:, i].reshape(-1, 1) * x.T).sum(axis=0) / gamma_sum[i] for i in range(N)]\n",
    "    \n",
    "    updated_cov = []\n",
    "    for i in range(N):\n",
    "        numerator = np.zeros((x.shape[0], x.shape[0]))\n",
    "        for t in range(x.shape[1]):\n",
    "            diff = x[:, t] - updated_mean[i]\n",
    "            numerator += gamma[t, i] * np.outer(diff, diff)\n",
    "        updated_cov.append(numerator / gamma_sum[i])\n",
    "\n",
    "    return updated_q, updated_A, updated_mean, updated_cov\n",
    "\n",
    "# Train\n",
    "train_data = read_data('./train.csv')\n",
    "n_iter = 15\n",
    "q_i, A_i, mean_i, cov_i = q, A, [g_i.means for g_i in g], [g_i.cov for g_i in g]\n",
    "for iteration in range(n_iter):\n",
    "    print(f\"Training iteration: {iteration + 1}\")\n",
    "    g = [GaussD(means=mean_i[i], cov=cov_i[i]) for i in range(len(mean_i))]\n",
    "    q_i, A_i, mean_i, cov_i = hmm_train(q_i, A_i, g, train_data)\n",
    "\n",
    "display('Updated q:', q_i)\n",
    "display('Updated A matrix:', A_i)\n",
    "display('Updated mean vector:', mean_i)\n",
    "display('Updated Covariance matrix:', cov_i)"
   ]
  },
  {
   "cell_type": "markdown",
   "metadata": {},
   "source": [
    "#### 3. Classify the state of a given sequence based on the state probabilities computed from the trained HMM."
   ]
  },
  {
   "cell_type": "code",
   "execution_count": 14,
   "metadata": {},
   "outputs": [],
   "source": [
    "train_data = read_data('./train.csv')\n",
    "gaussianD_train = [GaussD(means=mean_i[i], cov=cov_i[i]) for i in range(len(mean_i))]\n",
    "mc = MarkovChain(q_i, A_i)\n",
    "h = HMM(mc, gaussianD_train)\n",
    "pX_train = h.prob(train_data)\n",
    "alpha_hat_train, c = mc.forward(pX_train)\n",
    "beta_hat_train = mc.backward(c, pX_train)\n",
    "alpha_hat_train = np.array(alpha_hat_train)\n",
    "beta_hat_train = np.array(beta_hat_train)\n",
    "gamma_train = np.array([alpha_hat_train[t] * beta_hat_train[t] * c[t] for t in range(len(alpha_hat_train))])\n",
    "state_seq = np.argmax(gamma_train, axis=1)"
   ]
  },
  {
   "cell_type": "markdown",
   "metadata": {},
   "source": [
    "![1](./1.png)"
   ]
  },
  {
   "cell_type": "markdown",
   "metadata": {},
   "source": [
    "#### 4. Test your method on data that has not been used in training and record the accuracy."
   ]
  },
  {
   "cell_type": "markdown",
   "metadata": {},
   "source": [
    "Firstly, reset the cov:"
   ]
  },
  {
   "cell_type": "code",
   "execution_count": 7,
   "metadata": {},
   "outputs": [],
   "source": [
    "g1 = GaussD(means=[0, 0, 0], cov=np.array([[0.1, 0, 0], [0, 0.1, 0], [0, 0, 0.1]]))\n",
    "g2 = GaussD(means=[0, 0, 0], cov=np.array([[1, 0, 0], [0, 1, 0], [0, 0, 1]]))\n",
    "g3 = GaussD(means=[0, 0, 0], cov=np.array([[17, 0, 0], [0, 17, 0], [0, 0, 17]]))\n",
    "g = [g1, g2, g3]"
   ]
  },
  {
   "cell_type": "markdown",
   "metadata": {},
   "source": [
    "Then do the test:"
   ]
  },
  {
   "cell_type": "code",
   "execution_count": null,
   "metadata": {},
   "outputs": [],
   "source": [
    "# Test\n",
    "test_data = read_data('./test.csv')\n",
    "gaussianD_test = [GaussD(means=mean_i[i], cov=cov_i[i]) for i in range(len(mean_i))]\n",
    "mc = MarkovChain(q_i, A_i)\n",
    "h = HMM(mc, gaussianD_test)\n",
    "pX_test = h.prob(test_data)\n",
    "alpha_hat_test, c = mc.forward(pX_test)\n",
    "beta_hat_test = mc.backward(c, pX_test)\n",
    "alpha_hat_test = np.array(alpha_hat_test)\n",
    "beta_hat_test = np.array(beta_hat_test)\n",
    "gamma_test = np.array([alpha_hat_test[t] * beta_hat_test[t] * c[t] for t in range(len(alpha_hat_test))])\n",
    "state_seq = np.argmax(gamma_test, axis=1)"
   ]
  },
  {
   "cell_type": "markdown",
   "metadata": {},
   "source": [
    "Calculate the accuracy and record:"
   ]
  },
  {
   "cell_type": "code",
   "execution_count": null,
   "metadata": {},
   "outputs": [],
   "source": [
    "# Record the accuracy\n",
    "state_ini = np.zeros(2619)\n",
    "state_ini[180:853] = 1\n",
    "state_ini[853:1360] = 2\n",
    "state_ini[1360:2088] = 0\n",
    "state_ini[2088:2620] = 1  #observed by human(us)\n",
    "\n",
    "comparison = state_ini == state_seq\n",
    "\n",
    "similarity = np.sum(comparison) / len(state_ini)\n",
    "\n",
    "print(f\"The similarity: {similarity * 100:.2f}%\")"
   ]
  },
  {
   "cell_type": "markdown",
   "metadata": {},
   "source": [
    "### The Final Code is as follows"
   ]
  },
  {
   "cell_type": "code",
   "execution_count": 20,
   "metadata": {},
   "outputs": [
    {
     "name": "stdout",
     "output_type": "stream",
     "text": [
      "Training iteration: 1\n",
      "Training iteration: 2\n",
      "Training iteration: 3\n",
      "Training iteration: 4\n",
      "Training iteration: 5\n",
      "Training iteration: 6\n",
      "Training iteration: 7\n",
      "Training iteration: 8\n",
      "Training iteration: 9\n",
      "Training iteration: 10\n",
      "Training iteration: 11\n",
      "Training iteration: 12\n",
      "Training iteration: 13\n",
      "Training iteration: 14\n",
      "Training iteration: 15\n"
     ]
    },
    {
     "data": {
      "text/plain": [
       "'Updated q:'"
      ]
     },
     "metadata": {},
     "output_type": "display_data"
    },
    {
     "data": {
      "text/plain": [
       "array([1., 0., 0.])"
      ]
     },
     "metadata": {},
     "output_type": "display_data"
    },
    {
     "data": {
      "text/plain": [
       "'Updated A matrix:'"
      ]
     },
     "metadata": {},
     "output_type": "display_data"
    },
    {
     "data": {
      "text/plain": [
       "array([[9.93639232e-01, 6.36076765e-03, 8.29343941e-64],\n",
       "       [4.22558143e-03, 9.92802996e-01, 2.97142282e-03],\n",
       "       [1.50099860e-64, 5.62814125e-03, 9.94371859e-01]])"
      ]
     },
     "metadata": {},
     "output_type": "display_data"
    },
    {
     "data": {
      "text/plain": [
       "'Updated mean vector:'"
      ]
     },
     "metadata": {},
     "output_type": "display_data"
    },
    {
     "data": {
      "text/plain": [
       "[array([ 0.00069459,  0.00260515, -0.00621403]),\n",
       " array([0.02339086, 0.01455161, 0.04682165]),\n",
       " array([-0.25153334,  0.25732928, -0.57409466])]"
      ]
     },
     "metadata": {},
     "output_type": "display_data"
    },
    {
     "data": {
      "text/plain": [
       "'Updated Covariance matrix:'"
      ]
     },
     "metadata": {},
     "output_type": "display_data"
    },
    {
     "data": {
      "text/plain": [
       "[array([[ 0.01627975,  0.00595686,  0.00032083],\n",
       "        [ 0.00595686,  0.00640045, -0.00436771],\n",
       "        [ 0.00032083, -0.00436771,  0.02813525]]),\n",
       " array([[5.66715929e-01, 6.58876430e-02, 2.53494083e-04],\n",
       "        [6.58876430e-02, 1.06083110e+00, 8.55105464e-02],\n",
       "        [2.53494083e-04, 8.55105464e-02, 1.02369453e+00]]),\n",
       " array([[21.41948241, -2.68121385, -5.71122405],\n",
       "        [-2.68121385, 20.47391284,  1.19194353],\n",
       "        [-5.71122405,  1.19194353, 24.94577804]])]"
      ]
     },
     "metadata": {},
     "output_type": "display_data"
    },
    {
     "name": "stdout",
     "output_type": "stream",
     "text": [
      "The similarity: 87.97%\n"
     ]
    },
    {
     "data": {
      "image/png": "[encoded data removed]",
      "text/plain": [
       "<Figure size 640x480 with 1 Axes>"
      ]
     },
     "metadata": {},
     "output_type": "display_data"
    },
    {
     "data": {
      "image/png": "[encoded data removed]",
      "text/plain": [
       "<Figure size 640x480 with 1 Axes>"
      ]
     },
     "metadata": {},
     "output_type": "display_data"
    }
   ],
   "source": [
    "# import pandas as pd\n",
    "import numpy as np\n",
    "import matplotlib.pyplot as plt\n",
    "\n",
    "from PattRecClasses.MarkovChain import MarkovChain\n",
    "from PattRecClasses.GaussD import GaussD\n",
    "from PattRecClasses.HMM import HMM\n",
    "\n",
    "# define distribution and observed data\n",
    "g1 = GaussD(means=[0, 0, 0], cov=np.array([[0.1, 0, 0], [0, 0.1, 0], [0, 0, 0.1]]))\n",
    "g2 = GaussD(means=[0, 0, 0], cov=np.array([[1, 0, 0], [0, 1, 0], [0, 0, 1]]))\n",
    "g3 = GaussD(means=[0, 0, 0], cov=np.array([[17, 0, 0], [0, 17, 0], [0, 0, 17]]))\n",
    "g = [g1, g2, g3]\n",
    "q = np.array([1, 0, 0])\n",
    "A = np.array([[0.8, 0.1, 0.1], [0.1, 0.8, 0.1], [0.1, 0.1, 0.8]])\n",
    "\n",
    "def hmm_train(q, A, g, x):\n",
    "    mc = MarkovChain(q, A)\n",
    "    h = HMM(mc, g)\n",
    "    pX_scaled = h.prob(x)\n",
    "    alpha_hat, c = mc.forward(pX_scaled)\n",
    "    beta_hat = mc.backward(c, pX_scaled)\n",
    "    return update_parameters(mc, np.array(alpha_hat), np.array(beta_hat), np.array(c), pX_scaled, x)\n",
    "\n",
    "def update_parameters(mc, alpha_hat, beta_hat, c, pX_scaled, x):\n",
    "    T = len(alpha_hat)\n",
    "    N = len(alpha_hat[0])\n",
    "    gamma = alpha_hat * beta_hat * c[:, None]\n",
    "\n",
    "    updated_q = gamma[0]\n",
    "\n",
    "    epsilon = np.zeros((T - 1, N, N))\n",
    "    for t in range(T - 1):\n",
    "        epsilon[t] = alpha_hat[t][:, None] * mc.A * beta_hat[t + 1] * pX_scaled[:, t + 1]\n",
    "    epsilon_bar = np.sum(epsilon, axis=0)\n",
    "    \n",
    "    updated_A = epsilon_bar / np.sum(epsilon_bar, axis=1, keepdims=True)\n",
    "\n",
    "    gamma_sum = np.sum(gamma, axis=0)\n",
    "    updated_mean = [(gamma[:, i].reshape(-1, 1) * x.T).sum(axis=0) / gamma_sum[i] for i in range(N)]\n",
    "    \n",
    "    updated_cov = []\n",
    "    for i in range(N):\n",
    "        numerator = np.zeros((x.shape[0], x.shape[0]))\n",
    "        for t in range(x.shape[1]):\n",
    "            diff = x[:, t] - updated_mean[i]\n",
    "            numerator += gamma[t, i] * np.outer(diff, diff)\n",
    "        updated_cov.append(numerator / gamma_sum[i])\n",
    "\n",
    "    return updated_q, updated_A, updated_mean, updated_cov\n",
    "\n",
    "# Train\n",
    "train_data = read_data('./train.csv')\n",
    "n_iter = 15\n",
    "q_i, A_i, mean_i, cov_i = q, A, [g_i.means for g_i in g], [g_i.cov for g_i in g]\n",
    "for iteration in range(n_iter):\n",
    "    print(f\"Training iteration: {iteration + 1}\")\n",
    "    g = [GaussD(means=mean_i[i], cov=cov_i[i]) for i in range(len(mean_i))]\n",
    "    q_i, A_i, mean_i, cov_i = hmm_train(q_i, A_i, g, train_data)\n",
    "\n",
    "display('Updated q:', q_i)\n",
    "display('Updated A matrix:', A_i)\n",
    "display('Updated mean vector:', mean_i)\n",
    "display('Updated Covariance matrix:', cov_i)\n",
    "\n",
    "# Test\n",
    "test_data = read_data('./test.csv')\n",
    "gaussianD_test = [GaussD(means=mean_i[i], cov=cov_i[i]) for i in range(len(mean_i))]\n",
    "mc = MarkovChain(q_i, A_i)\n",
    "h = HMM(mc, gaussianD_test)\n",
    "pX_test = h.prob(test_data)\n",
    "alpha_hat_test, c = mc.forward(pX_test)\n",
    "beta_hat_test = mc.backward(c, pX_test)\n",
    "alpha_hat_test = np.array(alpha_hat_test)\n",
    "beta_hat_test = np.array(beta_hat_test)\n",
    "gamma_test = np.array([alpha_hat_test[t] * beta_hat_test[t] * c[t] for t in range(len(alpha_hat_test))])\n",
    "state_seq = np.argmax(gamma_test, axis=1)\n",
    "\n",
    "\n",
    "# Record the accuracy\n",
    "state_ini = np.zeros(2619)\n",
    "state_ini[180:853] = 1\n",
    "state_ini[853:1360] = 2\n",
    "state_ini[1360:2088] = 0\n",
    "state_ini[2088:2620] = 1\n",
    "\n",
    "comparison = state_ini == state_seq\n",
    "\n",
    "similarity = np.sum(comparison) / len(state_ini)\n",
    "\n",
    "print(f\"The similarity: {similarity * 100:.2f}%\")\n",
    "\n",
    "# Plot Original Testing data\n",
    "data = test_data.T\n",
    "x = range(data.shape[0])\n",
    "for i in range(data.shape[1]):\n",
    "    plt.plot(x, data[:, i])\n",
    "plt.legend([\"x\", \"y\", \"z\"])\n",
    "plt.xlabel(\"t\")\n",
    "plt.ylabel(\"accelerate\")\n",
    "plt.title(\"Variation of the accelerate data\")\n",
    "plt.show()\n",
    "\n",
    "# Plot Result of the Classifier\n",
    "plt.plot(state_seq)\n",
    "plt.xlabel(\"t\")\n",
    "plt.ylabel(\"Predicted state\")\n",
    "plt.title(\"State predicted state sequence\")\n",
    "plt.show()\n"
   ]
  },
  {
   "cell_type": "code",
   "execution_count": null,
   "metadata": {},
   "outputs": [],
   "source": []
  }
 ],
 "metadata": {
  "kernelspec": {
   "display_name": "Python 3 (ipykernel)",
   "language": "python",
   "name": "python3"
  },
  "language_info": {
   "codemirror_mode": {
    "name": "ipython",
    "version": 3
   },
   "file_extension": ".py",
   "mimetype": "text/x-python",
   "name": "python",
   "nbconvert_exporter": "python",
   "pygments_lexer": "ipython3",
   "version": "3.9.13"
  }
 },
 "nbformat": 4,
 "nbformat_minor": 2
}
